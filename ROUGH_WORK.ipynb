{
 "cells": [
  {
   "cell_type": "markdown",
   "metadata": {},
   "source": [
    "## Creating Labelled Combinaiton Table"
   ]
  },
  {
   "cell_type": "code",
   "execution_count": 31,
   "metadata": {},
   "outputs": [],
   "source": [
    "import pandas as pd\n",
    "import json"
   ]
  },
  {
   "cell_type": "code",
   "execution_count": 37,
   "metadata": {},
   "outputs": [
    {
     "name": "stdout",
     "output_type": "stream",
     "text": [
      "      0   1    2    3\n",
      "0     3   0    0   12\n",
      "1     2   0    0   14\n",
      "2     1   0    0   15\n",
      "3    12  15    0   16\n",
      "4    16   0    0   17\n",
      "..   ..  ..  ...  ...\n",
      "173  32  35  226  316\n",
      "174  32  35  227  317\n",
      "175  32  35  228  318\n",
      "176  32  35  229  319\n",
      "177  32  35  230  320\n",
      "\n",
      "[178 rows x 4 columns]\n",
      "Ordered List of element names: ['Big_Tree', 'Tree', 'Stone', 'Red_Berry', 'Blue_Berry', 'Antler', 'Small_Stone', 'Stone_Tool1', 'Bough', 'Stick', 'Bark', 'Fiber', 'Twine', 'Axe', 'Log', 'Log_W_Bark', 'Half_Log', 'Quarter_Log', 'Antler_Refined', 'Stone_Tool2', 'Stone_Tool3', 'Stone_Tool4', 'Stone_Tool5', 'Big_Bough', 'Big_Bough_Refined', 'Big_Axe', 'Small_Stick', 'Brush', 'Container', 'Red_Paint', 'Blue_Paint', 'Big_Log', 'Big_Log_W_Bark', 'S_Log_Rd', 'S_Log_Sq', 'S_Log_Tr', 'R_S_Log_Rd', 'R_S_Log_Sq', 'R_S_Log_Tr', 'B_S_Log_Rd', 'B_S_Log_Sq', 'B_S_Log_Tr', 'S_Log_Rd_R', 'S_Log_Sq_R', 'S_Log_Tr_R', 'S_Log_Rd_B', 'S_Log_Sq_B', 'S_Log_Tr_B', 'R_S_Log_Rd_R', 'R_S_Log_Sq_R', 'R_S_Log_Tr_R', 'B_S_Log_Rd_R', 'B_S_Log_Sq_R', 'B_S_Log_Tr_R', 'R_S_Log_Rd_B', 'R_S_Log_Sq_B', 'R_S_Log_Tr_B', 'B_S_Log_Rd_B', 'B_S_Log_Sq_B', 'B_S_Log_Tr_B', 'BG_Log_Top_Rd', 'BG_Log_Top_Sq', 'BG_Log_Top_Tr', 'BG_Log_Top_Rd_Bt_Rd', 'BG_Log_Top_Sq_Bt_Rd', 'BG_Log_Top_Tr_Bt_Rd', 'BG_Log_Top_Rd_Bt_Sq', 'BG_Log_Top_Sq_Bt_Sq', 'BG_Log_Top_Tr_Bt_Sq', 'BG_Log_Top_Rd_Bt_Tr', 'BG_Log_Top_Sq_Bt_Tr', 'BG_Log_Top_Tr_Bt_Tr', 'R_BG_Log_Top_Rd_Bt_Rd', 'R_BG_Log_Top_Sq_Bt_Rd', 'R_BG_Log_Top_Tr_Bt_Rd', 'R_BG_Log_Top_Rd_Bt_Sq', 'R_BG_Log_Top_Sq_Bt_Sq', 'R_BG_Log_Top_Tr_Bt_Sq', 'R_BG_Log_Top_Rd_Bt_Tr', 'R_BG_Log_Top_Sq_Bt_Tr', 'R_BG_Log_Top_Tr_Bt_Tr', 'B_BG_Log_Top_Rd_Bt_Rd', 'B_BG_Log_Top_Sq_Bt_Rd', 'B_BG_Log_Top_Tr_Bt_Rd', 'B_BG_Log_Top_Rd_Bt_Sq', 'B_BG_Log_Top_Sq_Bt_Sq', 'B_BG_Log_Top_Tr_Bt_Sq', 'B_BG_Log_Top_Rd_Bt_Tr', 'B_BG_Log_Top_Sq_Bt_Tr', 'B_BG_Log_Top_Tr_Bt_Tr', 'BG_Log_Top_Rd_Bt_Rd_R', 'BG_Log_Top_Sq_Bt_Rd_R', 'BG_Log_Top_Tr_Bt_Rd_R', 'BG_Log_Top_Rd_Bt_Sq_R', 'BG_Log_Top_Sq_Bt_Sq_R', 'BG_Log_Top_Tr_Bt_Sq_R', 'BG_Log_Top_Rd_Bt_Tr_R', 'BG_Log_Top_Sq_Bt_Tr_R', 'BG_Log_Top_Tr_Bt_Tr_R', 'BG_Log_Top_Rd_Bt_Rd_B', 'BG_Log_Top_Sq_Bt_Rd_B', 'BG_Log_Top_Tr_Bt_Rd_B', 'BG_Log_Top_Rd_Bt_Sq_B', 'BG_Log_Top_Sq_Bt_Sq_B', 'BG_Log_Top_Tr_Bt_Sq_B', 'BG_Log_Top_Rd_Bt_Tr_B', 'BG_Log_Top_Sq_Bt_Tr_B', 'BG_Log_Top_Tr_Bt_Tr_B', 'R_BG_Log_Top_Rd_Bt_Rd_R', 'R_BG_Log_Top_Sq_Bt_Rd_R', 'R_BG_Log_Top_Tr_Bt_Rd_R', 'R_BG_Log_Top_Rd_Bt_Sq_R', 'R_BG_Log_Top_Sq_Bt_Sq_R', 'R_BG_Log_Top_Tr_Bt_Sq_R', 'R_BG_Log_Top_Rd_Bt_Tr_R', 'R_BG_Log_Top_Sq_Bt_Tr_R', 'R_BG_Log_Top_Tr_Bt_Tr_R', 'B_BG_Log_Top_Rd_Bt_Rd_R', 'B_BG_Log_Top_Sq_Bt_Rd_R', 'B_BG_Log_Top_Tr_Bt_Rd_R', 'B_BG_Log_Top_Rd_Bt_Sq_R', 'B_BG_Log_Top_Sq_Bt_Sq_R', 'B_BG_Log_Top_Tr_Bt_Sq_R', 'B_BG_Log_Top_Rd_Bt_Tr_R', 'B_BG_Log_Top_Sq_Bt_Tr_R', 'B_BG_Log_Top_Tr_Bt_Tr_R', 'R_BG_Log_Top_Rd_Bt_Rd_B', 'R_BG_Log_Top_Sq_Bt_Rd_B', 'R_BG_Log_Top_Tr_Bt_Rd_B', 'R_BG_Log_Top_Rd_Bt_Sq_B', 'R_BG_Log_Top_Sq_Bt_Sq_B', 'R_BG_Log_Top_Tr_Bt_Sq_B', 'R_BG_Log_Top_Rd_Bt_Tr_B', 'R_BG_Log_Top_Sq_Bt_Tr_B', 'R_BG_Log_Top_Tr_Bt_Tr_B', 'B_BG_Log_Top_Rd_Bt_Rd_B', 'B_BG_Log_Top_Sq_Bt_Rd_B', 'B_BG_Log_Top_Tr_Bt_Rd_B', 'B_BG_Log_Top_Rd_Bt_Sq_B', 'B_BG_Log_Top_Sq_Bt_Sq_B', 'B_BG_Log_Top_Tr_Bt_Sq_B', 'B_BG_Log_Top_Rd_Bt_Tr_B', 'B_BG_Log_Top_Sq_Bt_Tr_B', 'B_BG_Log_Top_Tr_Bt_Tr_B']\n",
      "#of Elements: 144\n"
     ]
    }
   ],
   "source": [
    "nameless_rules = pd.read_csv('data\\\\nonlabelled_combinations.csv', header=None)\n",
    "print(nameless_rules)\n",
    "\n",
    "with open('data\\\\elements_ordered.json', 'r') as file:\n",
    "        ordered_elements = json.load(file)\n",
    "\n",
    "ordered_elements = [s.replace('.jpg', '') for s in ordered_elements]\n",
    "print('Ordered List of element names: {}\\n#of Elements: {}'.format(ordered_elements, len(ordered_elements)))\n"
   ]
  },
  {
   "cell_type": "code",
   "execution_count": 38,
   "metadata": {},
   "outputs": [],
   "source": [
    "mapping = {i+1: s for i, s in enumerate(ordered_elements)}      \n",
    "\n",
    "# Apply the mapping to the DataFrame\n",
    "nameless_rules_replaced = nameless_rules.applymap(lambda x: mapping.get(x, x))      # Does not change all the element names.\n",
    "nameless_rules_replaced.to_csv('data\\\\labelled_combinations.csv', index=False)"
   ]
  },
  {
   "cell_type": "markdown",
   "metadata": {},
   "source": [
    "## Element Image Label Translations"
   ]
  },
  {
   "cell_type": "code",
   "execution_count": 40,
   "metadata": {},
   "outputs": [
    {
     "name": "stdout",
     "output_type": "stream",
     "text": [
      "Requirement already satisfied: Pillow in c:\\users\\chand\\appdata\\local\\packages\\pythonsoftwarefoundation.python.3.10_qbz5n2kfra8p0\\localcache\\local-packages\\python310\\site-packages (9.2.0)\n",
      "Requirement already satisfied: imagehash in c:\\users\\chand\\appdata\\local\\packages\\pythonsoftwarefoundation.python.3.10_qbz5n2kfra8p0\\localcache\\local-packages\\python310\\site-packages (4.3.1)\n",
      "Requirement already satisfied: PyWavelets in c:\\users\\chand\\appdata\\local\\packages\\pythonsoftwarefoundation.python.3.10_qbz5n2kfra8p0\\localcache\\local-packages\\python310\\site-packages (from imagehash) (1.7.0)\n",
      "Requirement already satisfied: numpy in c:\\users\\chand\\appdata\\local\\packages\\pythonsoftwarefoundation.python.3.10_qbz5n2kfra8p0\\localcache\\local-packages\\python310\\site-packages (from imagehash) (1.24.4)\n",
      "Requirement already satisfied: scipy in c:\\users\\chand\\appdata\\local\\packages\\pythonsoftwarefoundation.python.3.10_qbz5n2kfra8p0\\localcache\\local-packages\\python310\\site-packages (from imagehash) (1.9.1)\n",
      "Note: you may need to restart the kernel to use updated packages.\n"
     ]
    }
   ],
   "source": [
    "pip install Pillow imagehash"
   ]
  },
  {
   "cell_type": "code",
   "execution_count": 47,
   "metadata": {},
   "outputs": [
    {
     "name": "stdout",
     "output_type": "stream",
     "text": [
      "Source images: 149\n",
      "Target images: 192\n",
      "Processed source images: 94\n",
      "Processed target images: 90\n",
      "Copied and renamed: 1.jpg -> 1_Big_Tree.jpg\n",
      "Copied and renamed: 20.jpg -> 20_S_Log_Tr.jpg\n",
      "Copied and renamed: 115.jpg -> 115_S_Log_Tr_R.jpg\n",
      "Copied and renamed: 139.jpg -> 139_R_S_Log_Tr_R.jpg\n",
      "Copied and renamed: 11.jpg -> 11_Small_Stone.jpg\n",
      "Copied and renamed: 12.jpg -> 12_Stone_Tool1.jpg\n",
      "Copied and renamed: 13.jpg -> 13_Bough.jpg\n",
      "Copied and renamed: 14.jpg -> 14_Stick.jpg\n",
      "Copied and renamed: 15.jpg -> 15_Bark.jpg\n",
      "Copied and renamed: 16.jpg -> 16_Fiber.jpg\n",
      "Copied and renamed: 17.jpg -> 17_Twine.jpg\n",
      "Copied and renamed: 18.jpg -> 18_Axe.jpg\n",
      "Copied and renamed: 2.jpg -> 2_Tree.jpg\n",
      "Copied and renamed: 201.jpg -> 201_BG_Log_Top_Rd.jpg\n",
      "Copied and renamed: 202.jpg -> 202_BG_Log_Top_Sq.jpg\n",
      "Copied and renamed: 203.jpg -> 203_BG_Log_Top_Tr.jpg\n",
      "Copied and renamed: 205.jpg -> 205_BG_Log_Top_Sq_Bt_Rd.jpg\n",
      "Copied and renamed: 206.jpg -> 206_BG_Log_Top_Tr_Bt_Rd.jpg\n",
      "Copied and renamed: 207.jpg -> 207_BG_Log_Top_Rd_Bt_Sq.jpg\n",
      "Copied and renamed: 208.jpg -> 208_BG_Log_Top_Sq_Bt_Sq.jpg\n",
      "Copied and renamed: 209.jpg -> 209_BG_Log_Top_Tr_Bt_Sq.jpg\n",
      "Copied and renamed: 21.jpg -> 21_Half_Log.jpg\n",
      "Copied and renamed: 210.jpg -> 210_BG_Log_Top_Rd_Bt_Tr.jpg\n",
      "Copied and renamed: 211.jpg -> 211_BG_Log_Top_Sq_Bt_Tr.jpg\n",
      "Copied and renamed: 248.jpg -> 248_BG_Log_Top_Tr_Bt_Tr_B.jpg\n",
      "Copied and renamed: 213.jpg -> 213_R_BG_Log_Top_Rd_Bt_Rd.jpg\n",
      "Copied and renamed: 214.jpg -> 214_R_BG_Log_Top_Sq_Bt_Rd.jpg\n",
      "Copied and renamed: 215.jpg -> 215_R_BG_Log_Top_Tr_Bt_Rd.jpg\n",
      "Copied and renamed: 216.jpg -> 216_R_BG_Log_Top_Rd_Bt_Sq.jpg\n",
      "Copied and renamed: 217.jpg -> 217_R_BG_Log_Top_Sq_Bt_Sq.jpg\n",
      "Copied and renamed: 218.jpg -> 218_R_BG_Log_Top_Tr_Bt_Sq.jpg\n",
      "Copied and renamed: 219.jpg -> 219_R_BG_Log_Top_Rd_Bt_Tr.jpg\n",
      "Copied and renamed: 22.jpg -> 22_Quarter_Log.jpg\n",
      "Copied and renamed: 220.jpg -> 220_R_BG_Log_Top_Sq_Bt_Tr.jpg\n",
      "Copied and renamed: 221.jpg -> 221_R_BG_Log_Top_Tr_Bt_Tr.jpg\n",
      "Copied and renamed: 222.jpg -> 222_B_BG_Log_Top_Rd_Bt_Rd.jpg\n",
      "Copied and renamed: 223.jpg -> 223_B_BG_Log_Top_Sq_Bt_Rd.jpg\n",
      "Copied and renamed: 224.jpg -> 224_B_BG_Log_Top_Tr_Bt_Rd.jpg\n",
      "Copied and renamed: 228.jpg -> 228_B_BG_Log_Top_Rd_Bt_Tr.jpg\n",
      "Copied and renamed: 226.jpg -> 226_B_BG_Log_Top_Sq_Bt_Sq.jpg\n",
      "Copied and renamed: 227.jpg -> 227_B_BG_Log_Top_Tr_Bt_Sq.jpg\n",
      "Copied and renamed: 229.jpg -> 229_B_BG_Log_Top_Sq_Bt_Tr.jpg\n",
      "Copied and renamed: 23.jpg -> 23_Antler_Refined.jpg\n",
      "Copied and renamed: 230.jpg -> 230_B_BG_Log_Top_Tr_Bt_Tr.jpg\n",
      "Copied and renamed: 240.jpg -> 240_BG_Log_Top_Rd_Bt_Rd_R.jpg\n",
      "Copied and renamed: 241.jpg -> 241_BG_Log_Top_Sq_Bt_Rd_R.jpg\n",
      "Copied and renamed: 242.jpg -> 242_BG_Log_Top_Tr_Bt_Rd_R.jpg\n",
      "Copied and renamed: 234.jpg -> 234_BG_Log_Top_Rd_Bt_Sq_R.jpg\n",
      "Copied and renamed: 235.jpg -> 235_BG_Log_Top_Sq_Bt_Sq_R.jpg\n",
      "Copied and renamed: 236.jpg -> 236_BG_Log_Top_Tr_Bt_Sq_R.jpg\n",
      "Copied and renamed: 246.jpg -> 246_BG_Log_Top_Rd_Bt_Tr_R.jpg\n",
      "Copied and renamed: 247.jpg -> 247_BG_Log_Top_Sq_Bt_Tr_R.jpg\n",
      "Copied and renamed: 239.jpg -> 239_BG_Log_Top_Tr_Bt_Tr_R.jpg\n",
      "Copied and renamed: 24.jpg -> 24_Stone_Tool2.jpg\n",
      "Copied and renamed: 243.jpg -> 243_BG_Log_Top_Rd_Bt_Sq_B.jpg\n",
      "Copied and renamed: 244.jpg -> 244_BG_Log_Top_Sq_Bt_Sq_B.jpg\n",
      "Copied and renamed: 245.jpg -> 245_BG_Log_Top_Tr_Bt_Sq_B.jpg\n",
      "Copied and renamed: 294.jpg -> 294_R_BG_Log_Top_Rd_Bt_Rd_R.jpg\n",
      "Copied and renamed: 25.jpg -> 25_Stone_Tool3.jpg\n",
      "Copied and renamed: 304.jpg -> 304_R_BG_Log_Top_Sq_Bt_Rd_R.jpg\n",
      "Copied and renamed: 287.jpg -> 287_R_BG_Log_Top_Tr_Bt_Rd_R.jpg\n",
      "Copied and renamed: 317.jpg -> 317_R_BG_Log_Top_Rd_Bt_Sq_R.jpg\n",
      "Copied and renamed: 316.jpg -> 316_R_BG_Log_Top_Sq_Bt_Sq_R.jpg\n",
      "Copied and renamed: 308.jpg -> 308_R_BG_Log_Top_Tr_Bt_Sq_R.jpg\n",
      "Copied and renamed: 318.jpg -> 318_R_BG_Log_Top_Rd_Bt_Tr_R.jpg\n",
      "Copied and renamed: 320.jpg -> 320_R_BG_Log_Top_Tr_Bt_Tr_R.jpg\n",
      "Copied and renamed: 303.jpg -> 303_R_BG_Log_Top_Rd_Bt_Rd_B.jpg\n",
      "Copied and renamed: 26.jpg -> 26_Stone_Tool4.jpg\n",
      "Copied and renamed: 305.jpg -> 305_R_BG_Log_Top_Tr_Bt_Rd_B.jpg\n",
      "Copied and renamed: 306.jpg -> 306_R_BG_Log_Top_Rd_Bt_Sq_B.jpg\n",
      "Copied and renamed: 307.jpg -> 307_R_BG_Log_Top_Sq_Bt_Sq_B.jpg\n",
      "Copied and renamed: 311.jpg -> 311_R_BG_Log_Top_Tr_Bt_Tr_B.jpg\n",
      "Copied and renamed: 313.jpg -> 313_B_BG_Log_Top_Sq_Bt_Rd_R.jpg\n",
      "Copied and renamed: 296.jpg -> 296_B_BG_Log_Top_Tr_Bt_Rd_R.jpg\n",
      "Copied and renamed: 27.jpg -> 27_Stone_Tool5.jpg\n",
      "Copied and renamed: 312.jpg -> 312_B_BG_Log_Top_Rd_Bt_Rd_B.jpg\n",
      "Copied and renamed: 314.jpg -> 314_B_BG_Log_Top_Tr_Bt_Rd_B.jpg\n",
      "Copied and renamed: 29.jpg -> 29_Big_Bough_Refined.jpg\n",
      "Copied and renamed: 3.jpg -> 3_Stone.jpg\n",
      "Copied and renamed: 30.jpg -> 30_Big_Axe.jpg\n",
      "Copied and renamed: 31.jpg -> 31_Small_Stick.jpg\n",
      "Copied and renamed: 32.jpg -> 32_Brush.jpg\n",
      "Copied and renamed: 33.jpg -> 33_Container.jpg\n",
      "Copied and renamed: 34.jpg -> 34_Red_Paint.jpg\n",
      "Copied and renamed: 35.jpg -> 35_Blue_Paint.jpg\n",
      "Copied and renamed: 36.jpg -> 36_Big_Log.jpg\n",
      "Copied and renamed: 37.jpg -> 37_Big_Log_W_Bark.jpg\n",
      "Copied and renamed: 4.jpg -> 4_Red_Berry.jpg\n",
      "Copied and renamed: 5.jpg -> 5_Blue_Berry.jpg\n",
      "Copied and renamed: 6.jpg -> 6_Antler.jpg\n",
      "\n",
      "Total matches: 90\n",
      "Unmatched source images: 59\n",
      "Unmatched target images: 102\n"
     ]
    }
   ],
   "source": [
    "import os\n",
    "import shutil\n",
    "from PIL import Image\n",
    "import imagehash\n",
    "\n",
    "def get_image_hash(image_path):\n",
    "    try:\n",
    "        return imagehash.average_hash(Image.open(image_path))\n",
    "    except Exception as e:\n",
    "        print(f\"Error processing {image_path}: {str(e)}\")\n",
    "        return None\n",
    "\n",
    "def append_image_names(source_folder, target_folder, output_folder):\n",
    "    if not os.path.exists(output_folder):\n",
    "        os.makedirs(output_folder)\n",
    "\n",
    "    source_images = [f for f in os.listdir(source_folder) if f.lower().endswith('.jpg')]\n",
    "    target_images = [f for f in os.listdir(target_folder) if f.lower().endswith('.jpg')]\n",
    "\n",
    "    print(f\"Source images: {len(source_images)}\")\n",
    "    print(f\"Target images: {len(target_images)}\")\n",
    "\n",
    "    source_hashes = {get_image_hash(os.path.join(source_folder, img)): img for img in source_images if get_image_hash(os.path.join(source_folder, img)) is not None}\n",
    "    target_hashes = {get_image_hash(os.path.join(target_folder, img)): img for img in target_images if get_image_hash(os.path.join(target_folder, img)) is not None}\n",
    "\n",
    "    print(f\"Processed source images: {len(source_hashes)}\")\n",
    "    print(f\"Processed target images: {len(target_hashes)}\")\n",
    "\n",
    "    matched_count = 0\n",
    "    for hash_value, target_name in target_hashes.items():\n",
    "        if hash_value in source_hashes:\n",
    "            source_name = source_hashes[hash_value]\n",
    "            new_name = f\"{os.path.splitext(target_name)[0]}_{os.path.splitext(source_name)[0]}.jpg\"\n",
    "            old_path = os.path.join(target_folder, target_name)\n",
    "            new_path = os.path.join(output_folder, new_name)\n",
    "            shutil.copy2(old_path, new_path)\n",
    "            matched_count += 1\n",
    "            print(f\"Copied and renamed: {target_name} -> {new_name}\")\n",
    "        else:\n",
    "            print(f\"No match found for target image: {target_name}\")\n",
    "\n",
    "    print(f\"\\nTotal matches: {matched_count}\")\n",
    "    print(f\"Unmatched source images: {len(source_images) - matched_count}\")\n",
    "    print(f\"Unmatched target images: {len(target_images) - matched_count}\")\n",
    "\n",
    "# Usage\n",
    "source_folder = 'data\\\\Image'\n",
    "target_folder = 'data\\\\images-semantic'\n",
    "output_folder = 'data\\\\append_semantics_images'\n",
    "append_image_names(source_folder, target_folder, output_folder)"
   ]
  }
 ],
 "metadata": {
  "kernelspec": {
   "display_name": "Python 3",
   "language": "python",
   "name": "python3"
  },
  "language_info": {
   "codemirror_mode": {
    "name": "ipython",
    "version": 3
   },
   "file_extension": ".py",
   "mimetype": "text/x-python",
   "name": "python",
   "nbconvert_exporter": "python",
   "pygments_lexer": "ipython3",
   "version": "3.10.11"
  }
 },
 "nbformat": 4,
 "nbformat_minor": 2
}
