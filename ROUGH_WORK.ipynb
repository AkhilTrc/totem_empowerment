{
 "cells": [
  {
   "cell_type": "code",
   "execution_count": 31,
   "metadata": {},
   "outputs": [],
   "source": [
    "import pandas as pd\n",
    "import json"
   ]
  },
  {
   "cell_type": "code",
   "execution_count": 32,
   "metadata": {},
   "outputs": [
    {
     "name": "stdout",
     "output_type": "stream",
     "text": [
      "      0   1    2    3\n",
      "0     3   0    0   12\n",
      "1     2   0    0   14\n",
      "2     1   0    0   15\n",
      "3    12  15    0   16\n",
      "4    16   0    0   17\n",
      "..   ..  ..  ...  ...\n",
      "173  32  35  226  316\n",
      "174  32  35  227  317\n",
      "175  32  35  228  318\n",
      "176  32  35  229  319\n",
      "177  32  35  230  320\n",
      "\n",
      "[178 rows x 4 columns]\n",
      "Ordered List of element names: ['Big_Tree.jpg', 'Tree.jpg', 'Stone.jpg', 'Red_Berry.jpg', 'Blue_Berry.jpg', 'Antler.jpg', 'Small_Stone.jpg', 'Stone_Tool1.jpg', 'Bough.jpg', 'Stick.jpg', 'Bark.jpg', 'Fiber.jpg', 'Twine.jpg', 'Axe.jpg', 'Log.jpg', 'Log_W_Bark.jpg', 'Half_Log.jpg', 'Quarter_Log.jpg', 'Antler_Refined.jpg', 'Stone_Tool2.jpg', 'Stone_Tool3.jpg', 'Stone_Tool4.jpg', 'Stone_Tool5.jpg', 'Big_Bough.jpg', 'Big_Bough_Refined.jpg', 'Big_Axe.jpg', 'Small_Stick.jpg', 'Brush.jpg', 'Container.jpg', 'Red_Paint.jpg', 'Blue_Paint.jpg', 'Big_Log.jpg', 'Big_Log_W_Bark.jpg', 'S_Log_Rd.jpg', 'S_Log_Sq.jpg', 'S_Log_Tr.jpg', 'R_S_Log_Rd.jpg', 'R_S_Log_Sq.jpg', 'R_S_Log_Tr.jpg', 'B_S_Log_Rd.jpg', 'B_S_Log_Sq.jpg', 'B_S_Log_Tr.jpg', 'S_Log_Rd_R.jpg', 'S_Log_Sq_R.jpg', 'S_Log_Tr_R.jpg', 'S_Log_Rd_B.jpg', 'S_Log_Sq_B.jpg', 'S_Log_Tr_B.jpg', 'R_S_Log_Rd_R.jpg', 'R_S_Log_Sq_R.jpg', 'R_S_Log_Tr_R.jpg', 'B_S_Log_Rd_R.jpg', 'B_S_Log_Sq_R.jpg', 'B_S_Log_Tr_R.jpg', 'R_S_Log_Rd_B.jpg', 'R_S_Log_Sq_B.jpg', 'R_S_Log_Tr_B.jpg', 'B_S_Log_Rd_B.jpg', 'B_S_Log_Sq_B.jpg', 'B_S_Log_Tr_B.jpg', 'BG_Log_Top_Rd.jpg', 'BG_Log_Top_Sq.jpg', 'BG_Log_Top_Tr.jpg', 'BG_Log_Top_Rd_Bt_Rd.jpg', 'BG_Log_Top_Sq_Bt_Rd.jpg', 'BG_Log_Top_Tr_Bt_Rd.jpg', 'BG_Log_Top_Rd_Bt_Sq.jpg', 'BG_Log_Top_Sq_Bt_Sq.jpg', 'BG_Log_Top_Tr_Bt_Sq.jpg', 'BG_Log_Top_Rd_Bt_Tr.jpg', 'BG_Log_Top_Sq_Bt_Tr.jpg', 'BG_Log_Top_Tr_Bt_Tr.jpg', 'R_BG_Log_Top_Rd_Bt_Rd.jpg', 'R_BG_Log_Top_Sq_Bt_Rd.jpg', 'R_BG_Log_Top_Tr_Bt_Rd.jpg', 'R_BG_Log_Top_Rd_Bt_Sq.jpg', 'R_BG_Log_Top_Sq_Bt_Sq.jpg', 'R_BG_Log_Top_Tr_Bt_Sq.jpg', 'R_BG_Log_Top_Rd_Bt_Tr.jpg', 'R_BG_Log_Top_Sq_Bt_Tr.jpg', 'R_BG_Log_Top_Tr_Bt_Tr.jpg', 'B_BG_Log_Top_Rd_Bt_Rd.jpg', 'B_BG_Log_Top_Sq_Bt_Rd.jpg', 'B_BG_Log_Top_Tr_Bt_Rd.jpg', 'B_BG_Log_Top_Rd_Bt_Sq.jpg', 'B_BG_Log_Top_Sq_Bt_Sq.jpg', 'B_BG_Log_Top_Tr_Bt_Sq.jpg', 'B_BG_Log_Top_Rd_Bt_Tr.jpg', 'B_BG_Log_Top_Sq_Bt_Tr.jpg', 'B_BG_Log_Top_Tr_Bt_Tr.jpg', 'BG_Log_Top_Rd_Bt_Rd_R.jpg', 'BG_Log_Top_Sq_Bt_Rd_R.jpg', 'BG_Log_Top_Tr_Bt_Rd_R.jpg', 'BG_Log_Top_Rd_Bt_Sq_R.jpg', 'BG_Log_Top_Sq_Bt_Sq_R.jpg', 'BG_Log_Top_Tr_Bt_Sq_R.jpg', 'BG_Log_Top_Rd_Bt_Tr_R.jpg', 'BG_Log_Top_Sq_Bt_Tr_R.jpg', 'BG_Log_Top_Tr_Bt_Tr_R.jpg', 'BG_Log_Top_Rd_Bt_Rd_B.jpg', 'BG_Log_Top_Sq_Bt_Rd_B.jpg', 'BG_Log_Top_Tr_Bt_Rd_B.jpg', 'BG_Log_Top_Rd_Bt_Sq_B.jpg', 'BG_Log_Top_Sq_Bt_Sq_B.jpg', 'BG_Log_Top_Tr_Bt_Sq_B.jpg', 'BG_Log_Top_Rd_Bt_Tr_B.jpg', 'BG_Log_Top_Sq_Bt_Tr_B.jpg', 'BG_Log_Top_Tr_Bt_Tr_B.jpg', 'R_BG_Log_Top_Rd_Bt_Rd_R.jpg', 'R_BG_Log_Top_Sq_Bt_Rd_R.jpg', 'R_BG_Log_Top_Tr_Bt_Rd_R.jpg', 'R_BG_Log_Top_Rd_Bt_Sq_R.jpg', 'R_BG_Log_Top_Sq_Bt_Sq_R.jpg', 'R_BG_Log_Top_Tr_Bt_Sq_R.jpg', 'R_BG_Log_Top_Rd_Bt_Tr_R.jpg', 'R_BG_Log_Top_Sq_Bt_Tr_R.jpg', 'R_BG_Log_Top_Tr_Bt_Tr_R.jpg', 'B_BG_Log_Top_Rd_Bt_Rd_R.jpg', 'B_BG_Log_Top_Sq_Bt_Rd_R.jpg', 'B_BG_Log_Top_Tr_Bt_Rd_R.jpg', 'B_BG_Log_Top_Rd_Bt_Sq_R.jpg', 'B_BG_Log_Top_Sq_Bt_Sq_R.jpg', 'B_BG_Log_Top_Tr_Bt_Sq_R.jpg', 'B_BG_Log_Top_Rd_Bt_Tr_R.jpg', 'B_BG_Log_Top_Sq_Bt_Tr_R.jpg', 'B_BG_Log_Top_Tr_Bt_Tr_R.jpg', 'R_BG_Log_Top_Rd_Bt_Rd_B.jpg', 'R_BG_Log_Top_Sq_Bt_Rd_B.jpg', 'R_BG_Log_Top_Tr_Bt_Rd_B.jpg', 'R_BG_Log_Top_Rd_Bt_Sq_B.jpg', 'R_BG_Log_Top_Sq_Bt_Sq_B.jpg', 'R_BG_Log_Top_Tr_Bt_Sq_B.jpg', 'R_BG_Log_Top_Rd_Bt_Tr_B.jpg', 'R_BG_Log_Top_Sq_Bt_Tr_B.jpg', 'R_BG_Log_Top_Tr_Bt_Tr_B.jpg', 'B_BG_Log_Top_Rd_Bt_Rd_B.jpg', 'B_BG_Log_Top_Sq_Bt_Rd_B.jpg', 'B_BG_Log_Top_Tr_Bt_Rd_B.jpg', 'B_BG_Log_Top_Rd_Bt_Sq_B.jpg', 'B_BG_Log_Top_Sq_Bt_Sq_B.jpg', 'B_BG_Log_Top_Tr_Bt_Sq_B.jpg', 'B_BG_Log_Top_Rd_Bt_Tr_B.jpg', 'B_BG_Log_Top_Sq_Bt_Tr_B.jpg', 'B_BG_Log_Top_Tr_Bt_Tr_B.jpg']\n",
      "#of Elements: 144\n"
     ]
    }
   ],
   "source": [
    "nameless_rules = pd.read_csv('data\\\\nonlabelled_combinations.csv', header=None)\n",
    "print(nameless_rules)\n",
    "\n",
    "with open('data\\\\elements_ordered.json', 'r') as file:\n",
    "        ordered_elements = json.load(file)\n",
    "\n",
    "print('Ordered List of element names: {}\\n#of Elements: {}'.format(ordered_elements, len(ordered_elements)))\n"
   ]
  },
  {
   "cell_type": "code",
   "execution_count": 35,
   "metadata": {},
   "outputs": [],
   "source": [
    "mapping = {i+1: s for i, s in enumerate(ordered_elements)}      \n",
    "\n",
    "# Apply the mapping to the DataFrame\n",
    "nameless_rules_replaced = nameless_rules.applymap(lambda x: mapping.get(x, x))      # Does not change all the element names.\n",
    "nameless_rules_replaced.to_csv('data\\\\labelled_combinations.csv', index=False)"
   ]
  }
 ],
 "metadata": {
  "kernelspec": {
   "display_name": "Python 3",
   "language": "python",
   "name": "python3"
  },
  "language_info": {
   "codemirror_mode": {
    "name": "ipython",
    "version": 3
   },
   "file_extension": ".py",
   "mimetype": "text/x-python",
   "name": "python",
   "nbconvert_exporter": "python",
   "pygments_lexer": "ipython3",
   "version": "3.10.11"
  }
 },
 "nbformat": 4,
 "nbformat_minor": 2
}
